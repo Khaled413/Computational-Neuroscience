{
  "nbformat": 4,
  "nbformat_minor": 0,
  "metadata": {
    "colab": {
      "provenance": []
    },
    "kernelspec": {
      "name": "python3",
      "display_name": "Python 3"
    },
    "language_info": {
      "name": "python"
    }
  },
  "cells": [
    {
      "cell_type": "code",
      "source": [
        "i1 = 0.05\n",
        "i2 = 0.10\n",
        "w1, w2, w3, w4 = -0.23010429, 0.10441698, 0.39483600, -0.42417713\n",
        "w5, w6, w7, w8 = 0.20515497, 0.40786847, -0.34303978, -0.07566300\n",
        "b1 = 0.5\n",
        "b2 = 0.7\n",
        "\n",
        "target_1 = 0.01\n",
        "target_2 = 0.99\n",
        "\n",
        "net_h1 = 0.49893648\n",
        "net_h2 = 0.47732409\n",
        "out_h1 = 0.62220937\n",
        "out_h2 = 0.61711580\n",
        "net_o1 = 1.07935142\n",
        "net_o2 = 0.43986460\n",
        "out_o1 = 0.74637123\n",
        "out_o2 = 0.60822677\n",
        "error_o1=0.27112129\n",
        "error_o2=0.07287540\n",
        "error_total=0.34399669\n",
        "lr=0.5"
      ],
      "metadata": {
        "id": "MMeT7wRNhlBF"
      },
      "execution_count": 1,
      "outputs": []
    },
    {
      "cell_type": "code",
      "source": [
        "# Compute gradients for the output layer using explicit equations\n",
        "delta_o1 = (out_o1 - target_1) * out_o1 * (1 - out_o1)\n",
        "delta_o2 = (out_o2 - target_2) * out_o2 * (1 - out_o2)\n",
        "print(f\"Delta_o1: {delta_o1:.6f}, Delta_o2: {delta_o2:.6f}\")"
      ],
      "metadata": {
        "id": "xCIGi8lYhuJx",
        "colab": {
          "base_uri": "https://localhost:8080/"
        },
        "outputId": "ea3567e9-b825-4c89-9acf-bb821c230903"
      },
      "execution_count": 2,
      "outputs": [
        {
          "output_type": "stream",
          "name": "stdout",
          "text": [
            "Delta_o1: 0.139396, Delta_o2: -0.090972\n"
          ]
        }
      ]
    },
    {
      "cell_type": "code",
      "source": [
        "# Compute gradients for weights between hidden layer and output layer\n",
        "delta_w5 = (out_o1 - target_1) * (out_o1 * (1 - out_o1)) * out_h1\n",
        "delta_w6 = (out_o1 - target_1) * (out_o1 * (1 - out_o1)) * out_h2\n",
        "delta_w7 = (out_o2 - target_2) * (out_o2 * (1 - out_o2)) * out_h1\n",
        "delta_w8 = (out_o2 - target_2) * (out_o2 * (1 - out_o2)) * out_h2\n",
        "print(f\"dw5: {delta_w5:.6f}, dw6: {delta_w6:.6f}, dw7: {delta_w7:.6f}, dw8: {delta_w8:.6f}\")"
      ],
      "metadata": {
        "id": "582tJk4Bl1HG",
        "colab": {
          "base_uri": "https://localhost:8080/"
        },
        "outputId": "57c8098f-d714-4304-a73e-14912bb8dde5"
      },
      "execution_count": 3,
      "outputs": [
        {
          "output_type": "stream",
          "name": "stdout",
          "text": [
            "dw5: 0.086733, dw6: 0.086023, dw7: -0.056603, dw8: -0.056140\n"
          ]
        }
      ]
    },
    {
      "cell_type": "code",
      "source": [
        "# Compute gradients for hidden layer\n",
        "delta_h1 = (((out_o1 - target_1) * (out_o1 * (1 - out_o1)) * w5) + ((out_o2 - target_2) * (out_o2 * (1 - out_o2)) * w7)) * (out_h1 * (1 - out_h1))\n",
        "delta_h2 = (((out_o1 - target_1) * (out_o1 * (1 - out_o1)) * w6) + ((out_o2 - target_2) * (out_o2 * (1 - out_o2)) * w8)) * (out_h2 * (1 - out_h2))\n",
        "print(f\"Delta_h1: {delta_h1:.6f}, Delta_h2: {delta_h2:.6f}\")"
      ],
      "metadata": {
        "colab": {
          "base_uri": "https://localhost:8080/"
        },
        "id": "aTJfinQ0nrOr",
        "outputId": "df840ef6-abab-49da-ee6f-b2420868c317"
      },
      "execution_count": 4,
      "outputs": [
        {
          "output_type": "stream",
          "name": "stdout",
          "text": [
            "Delta_h1: 0.014058, Delta_h2: 0.015060\n"
          ]
        }
      ]
    },
    {
      "cell_type": "code",
      "source": [
        "# Compute gradients for weights between input and hidden layer\n",
        "delta_w1 = (((out_o1 - target_1) * (out_o1 * (1 - out_o1)) * w5) + ((out_o2 - target_2) * (out_o2 * (1 - out_o2)) * w7)) * (out_h1 * (1 - out_h1)) * i1\n",
        "delta_w2 = (((out_o1 - target_1) * (out_o1 * (1 - out_o1)) * w5) + ((out_o2 - target_2) * (out_o2 * (1 - out_o2)) * w7)) * (out_h1 * (1 - out_h1)) * i2\n",
        "delta_w3 = (((out_o1 - target_1) * (out_o1 * (1 - out_o1)) * w6) + ((out_o2 - target_2) * (out_o2 * (1 - out_o2)) * w8)) * (out_h2 * (1 - out_h2)) * i1\n",
        "delta_w4 = (((out_o1 - target_1) * (out_o1 * (1 - out_o1)) * w6) + ((out_o2 - target_2) * (out_o2 * (1 - out_o2)) * w8)) * (out_h2 * (1 - out_h2)) * i2\n",
        "print(f\"dw1: {delta_w1:.6f}, dw2: {delta_w2:.6f}, dw3: {delta_w3:.6f}, dw4: {delta_w4:.6f}\")"
      ],
      "metadata": {
        "colab": {
          "base_uri": "https://localhost:8080/"
        },
        "id": "QGQnhGE4nxb_",
        "outputId": "62ac7d3f-6bcf-474f-924c-2bf43e2dae9f"
      },
      "execution_count": 5,
      "outputs": [
        {
          "output_type": "stream",
          "name": "stdout",
          "text": [
            "dw1: 0.000703, dw2: 0.001406, dw3: 0.000753, dw4: 0.001506\n"
          ]
        }
      ]
    },
    {
      "cell_type": "code",
      "source": [
        "w1 = w1 - (lr * delta_w1)\n",
        "w2 = w2 - (lr * delta_w2)\n",
        "w3 = w3 - (lr * delta_w3)\n",
        "w4 = w4 - (lr * delta_w4)\n",
        "w5 = w5 - (lr * delta_w5)\n",
        "w6 = w6 - (lr * delta_w6)\n",
        "w7 = w7 - (lr * delta_w7)\n",
        "w8 = w8 - (lr * delta_w8)\n",
        "print(f\"Updated weights: w1={w1:.6f}, w2={w2:.6f}, w3={w3:.6f}, w4={w4:.6f}, w5={w5:.6f}, w6={w6:.6f}, w7={w7:.6f}, w8={w8:.6f}\")"
      ],
      "metadata": {
        "colab": {
          "base_uri": "https://localhost:8080/"
        },
        "id": "73Op3ln1nzy8",
        "outputId": "0432d749-fbec-484e-ed61-56c57bc2049b"
      },
      "execution_count": 6,
      "outputs": [
        {
          "output_type": "stream",
          "name": "stdout",
          "text": [
            "Updated weights: w1=-0.230456, w2=0.103714, w3=0.394459, w4=-0.424930, w5=0.161788, w6=0.364857, w7=-0.314738, w8=-0.047593\n"
          ]
        }
      ]
    },
    {
      "cell_type": "code",
      "source": [],
      "metadata": {
        "id": "6aOZ6VoboFVj"
      },
      "execution_count": 6,
      "outputs": []
    }
  ]
}